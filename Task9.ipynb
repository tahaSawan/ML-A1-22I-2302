{
 "cells": [
  {
   "cell_type": "markdown",
   "metadata": {},
   "source": [
    "# Task 9"
   ]
  },
  {
   "cell_type": "code",
   "execution_count": 1,
   "metadata": {},
   "outputs": [
    {
     "name": "stdout",
     "output_type": "stream",
     "text": [
      "Original Distribution:\n",
      "Disease Category\n",
      "Metabolic         0.091332\n",
      "Parasitic         0.091178\n",
      "Genetic           0.091153\n",
      "Autoimmune        0.091153\n",
      "Neurological      0.091000\n",
      "Cardiovascular    0.090968\n",
      "Viral             0.090910\n",
      "Infectious        0.090764\n",
      "Respiratory       0.090588\n",
      "Bacterial         0.090509\n",
      "Chronic           0.090445\n",
      "Name: proportion, dtype: float64\n",
      "\n",
      "Training Set Distribution:\n",
      "Disease Category\n",
      "Metabolic         0.091332\n",
      "Parasitic         0.091177\n",
      "Autoimmune        0.091152\n",
      "Genetic           0.091152\n",
      "Neurological      0.091000\n",
      "Cardiovascular    0.090969\n",
      "Viral             0.090910\n",
      "Infectious        0.090764\n",
      "Respiratory       0.090589\n",
      "Bacterial         0.090509\n",
      "Chronic           0.090445\n",
      "Name: proportion, dtype: float64\n",
      "\n",
      "Test Set Distribution:\n",
      "Disease Category\n",
      "Metabolic         0.091330\n",
      "Parasitic         0.091180\n",
      "Autoimmune        0.091155\n",
      "Genetic           0.091155\n",
      "Neurological      0.091000\n",
      "Cardiovascular    0.090965\n",
      "Viral             0.090910\n",
      "Infectious        0.090765\n",
      "Respiratory       0.090585\n",
      "Bacterial         0.090510\n",
      "Chronic           0.090445\n",
      "Name: proportion, dtype: float64\n"
     ]
    },
    {
     "ename": "AssertionError",
     "evalue": "Training and test distributions do not match!",
     "output_type": "error",
     "traceback": [
      "\u001b[1;31m---------------------------------------------------------------------------\u001b[0m",
      "\u001b[1;31mAssertionError\u001b[0m                            Traceback (most recent call last)",
      "Cell \u001b[1;32mIn[1], line 37\u001b[0m\n\u001b[0;32m     34\u001b[0m \u001b[38;5;28mprint\u001b[39m(test_distribution)\n\u001b[0;32m     36\u001b[0m \u001b[38;5;66;03m# Verify that the distributions are similar\u001b[39;00m\n\u001b[1;32m---> 37\u001b[0m \u001b[38;5;28;01massert\u001b[39;00m train_distribution\u001b[38;5;241m.\u001b[39mequals(test_distribution), \u001b[38;5;124m\"\u001b[39m\u001b[38;5;124mTraining and test distributions do not match!\u001b[39m\u001b[38;5;124m\"\u001b[39m\n\u001b[0;32m     38\u001b[0m \u001b[38;5;28;01massert\u001b[39;00m train_distribution\u001b[38;5;241m.\u001b[39mequals(original_distribution), \u001b[38;5;124m\"\u001b[39m\u001b[38;5;124mTraining distribution does not match the original distribution!\u001b[39m\u001b[38;5;124m\"\u001b[39m\n\u001b[0;32m     39\u001b[0m \u001b[38;5;28mprint\u001b[39m(\u001b[38;5;124m\"\u001b[39m\u001b[38;5;130;01m\\n\u001b[39;00m\u001b[38;5;124mStratified sampling verified: Distributions match!\u001b[39m\u001b[38;5;124m\"\u001b[39m)\n",
      "\u001b[1;31mAssertionError\u001b[0m: Training and test distributions do not match!"
     ]
    }
   ],
   "source": [
    "import pandas as pd\n",
    "from sklearn.model_selection import train_test_split\n",
    "\n",
    "# Load the dataset\n",
    "df = pd.read_csv('Global_Health_Statistics.csv')  # Replace with your dataset\n",
    "\n",
    "# Define the stratification column (e.g., 'Disease Category')\n",
    "stratify_column = 'Disease Category'\n",
    "\n",
    "# Check the distribution of the stratification column in the original dataset\n",
    "original_distribution = df[stratify_column].value_counts(normalize=True)\n",
    "print(\"Original Distribution:\")\n",
    "print(original_distribution)\n",
    "\n",
    "# Perform stratified sampling\n",
    "X = df.drop(columns=['Mortality Rate (%)'])  # Features\n",
    "y = df['Mortality Rate (%)']  # Target variable\n",
    "X_train, X_test, y_train, y_test = train_test_split(\n",
    "    X, y, test_size=0.2, random_state=42, stratify=df[stratify_column]\n",
    ")\n",
    "\n",
    "# Add the stratification column back to the training and test sets for verification\n",
    "X_train[stratify_column] = df.loc[X_train.index, stratify_column]\n",
    "X_test[stratify_column] = df.loc[X_test.index, stratify_column]\n",
    "\n",
    "# Check the distribution of the stratification column in the training and test sets\n",
    "train_distribution = X_train[stratify_column].value_counts(normalize=True)\n",
    "test_distribution = X_test[stratify_column].value_counts(normalize=True)\n",
    "\n",
    "print(\"\\nTraining Set Distribution:\")\n",
    "print(train_distribution)\n",
    "\n",
    "print(\"\\nTest Set Distribution:\")\n",
    "print(test_distribution)\n",
    "\n",
    "# Verify that the distributions are similar\n",
    "assert train_distribution.equals(test_distribution), \"Training and test distributions do not match!\"\n",
    "assert train_distribution.equals(original_distribution), \"Training distribution does not match the original distribution!\"\n",
    "print(\"\\nStratified sampling verified: Distributions match!\")"
   ]
  },
  {
   "cell_type": "markdown",
   "metadata": {},
   "source": []
  }
 ],
 "metadata": {
  "kernelspec": {
   "display_name": "Python 3",
   "language": "python",
   "name": "python3"
  },
  "language_info": {
   "codemirror_mode": {
    "name": "ipython",
    "version": 3
   },
   "file_extension": ".py",
   "mimetype": "text/x-python",
   "name": "python",
   "nbconvert_exporter": "python",
   "pygments_lexer": "ipython3",
   "version": "3.12.6"
  }
 },
 "nbformat": 4,
 "nbformat_minor": 2
}
